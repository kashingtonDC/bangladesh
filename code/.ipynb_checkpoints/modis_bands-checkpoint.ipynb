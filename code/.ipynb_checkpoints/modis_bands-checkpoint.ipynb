{
 "cells": [
  {
   "cell_type": "code",
   "execution_count": 1,
   "id": "ddc57945",
   "metadata": {},
   "outputs": [],
   "source": [
    "import os\n",
    "import ee\n",
    "import numpy as np\n",
    "import pandas as pd\n",
    "import geopandas as gp\n",
    "import multiprocessing as mp\n",
    "from tqdm import tqdm\n",
    "ee.Initialize()"
   ]
  },
  {
   "cell_type": "code",
   "execution_count": 2,
   "id": "0da83f53",
   "metadata": {},
   "outputs": [],
   "source": [
    "def gdf_to_ee_poly(gdf, simplify = False):\n",
    "\n",
    "\tif simplify:\n",
    "\t\tgdf = gdf.geometry.simplify(0.01)\n",
    "\t\n",
    "\tlls = gdf.geometry.iloc[0]\n",
    "\tx,y = lls.exterior.coords.xy\n",
    "\tcoords = [list(zip(x,y))]\n",
    "\tarea = ee.Geometry.Polygon(coords)\n",
    "\n",
    "\treturn area\n"
   ]
  },
  {
   "cell_type": "code",
   "execution_count": 15,
   "id": "9b297ce8",
   "metadata": {},
   "outputs": [],
   "source": [
    "def return_mean(ImageCollection,resolution, scaling_factor, variable, startdate, enddate, area):\n",
    "    start = ee.Date(startdate)\n",
    "    end = ee.Date(enddate)\n",
    "\n",
    "    im = ee.Image(ImageCollection.select(var).filterDate(start, end).first())\n",
    "    scaled_im = im.multiply(scaling_factor)\n",
    "    results_dict  = scaled_im.reduceRegion(\n",
    "        reducer = ee.Reducer.mean(),\n",
    "        geometry = area,\n",
    "        scale = resolution,\n",
    "        bestEffort= True)\n",
    "\n",
    "    total = results_dict.getInfo()[variable]\n",
    "    return total\n",
    "\n",
    "def process_poly(polygon):\n",
    "    \n",
    "    area_shp = gdf.loc[i]['geometry']\n",
    "    area_gdf = gp.GeoDataFrame(index=[0], crs='epsg:4326', geometry=[area_shp])\n",
    "    area = gdf_to_ee_poly(area_gdf)\n",
    "    \n",
    "    dt_range = pd.date_range(\"2002-01-01\", '2002-01-10', freq = 'd') # CHANGE THESE DATES \n",
    "    results = {}\n",
    "\n",
    "    for date in tqdm(dt_range): \n",
    "        startdate = date\n",
    "        enddate = date + pd.Timedelta(days=1)\n",
    "\n",
    "        mean = return_mean(ImageCollection, resolution,scaling_factor, var,startdate,enddate,area)\n",
    "        results[date.strftime('%Y-%m-%d')] = mean\n",
    "        \n",
    "    tsdf = pd.DataFrame([results.keys(), results.values()]).T\n",
    "    tsdf.columns = ['date',var]\n",
    "    tsdf.set_index(\"date\", inplace = True)\n",
    "        \n",
    "    return tsdf"
   ]
  },
  {
   "cell_type": "code",
   "execution_count": 16,
   "id": "0a6250f1",
   "metadata": {},
   "outputs": [],
   "source": [
    "ImageCollection = ee.ImageCollection(\"MODIS/006/MCD43A4\")\n",
    "resolution = 500\n",
    "scaling_factor = 0.0001\n",
    "var = 'Nadir_Reflectance_Band1'\n",
    "\n",
    "gdf = gp.read_file(\"../shape/gadm36_BGD_4.shp\")"
   ]
  },
  {
   "cell_type": "code",
   "execution_count": 19,
   "id": "ad89fb77",
   "metadata": {},
   "outputs": [
    {
     "name": "stderr",
     "output_type": "stream",
     "text": [
      "100%|██████████| 10/10 [00:05<00:00,  1.94it/s]\n"
     ]
    }
   ],
   "source": [
    "outdir= \"../data\"\n",
    "if not os.path.exists(outdir):\n",
    "    os.mkdir(outdir)\n",
    "\n",
    "for i in range(len(gdf))[:1]:\n",
    "    area_shp = gdf.loc[i]['geometry']\n",
    "    area_gdf = gp.GeoDataFrame(insdex=[0], crs='epsg:4326', geometry=[area_shp])\n",
    "    area = gdf_to_ee_poly(area_gdf)\n",
    "    name = gdf.loc[i]['GID_4']\n",
    "    outfn = os.path.join(outdir,name+\".csv\")\n",
    "    if not os.path.exists(outfn):\n",
    "        data = process_poly(area)\n",
    "        data.to_csv(outfn)\n",
    "    else:\n",
    "        continue"
   ]
  },
  {
   "cell_type": "code",
   "execution_count": 21,
   "id": "29e0f3d1",
   "metadata": {},
   "outputs": [
    {
     "data": {
      "text/plain": [
       "<AxesSubplot:xlabel='date'>"
      ]
     },
     "execution_count": 21,
     "metadata": {},
     "output_type": "execute_result"
    },
    {
     "data": {
      "image/png": "[encoded data removed]",
      "text/plain": [
       "<Figure size 432x288 with 1 Axes>"
      ]
     },
     "metadata": {
      "needs_background": "light"
     },
     "output_type": "display_data"
    }
   ],
   "source": [
    "data.plot()"
   ]
  }
 ],
 "metadata": {
  "kernelspec": {
   "display_name": "Python 3",
   "language": "python",
   "name": "python3"
  },
  "language_info": {
   "codemirror_mode": {
    "name": "ipython",
    "version": 3
   },
   "file_extension": ".py",
   "mimetype": "text/x-python",
   "name": "python",
   "nbconvert_exporter": "python",
   "pygments_lexer": "ipython3",
   "version": "3.8.10"
  }
 },
 "nbformat": 4,
 "nbformat_minor": 5
}
